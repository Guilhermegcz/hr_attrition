{
 "cells": [
  {
   "cell_type": "markdown",
   "metadata": {},
   "source": [
    "# Libs utilizadas"
   ]
  },
  {
   "cell_type": "code",
   "execution_count": 1,
   "metadata": {},
   "outputs": [],
   "source": [
    "# Manipulação de dados\n",
    "import pandas as pd\n",
    "import numpy as np\n",
    "\n",
    "# Visualização\n",
    "import matplotlib.pyplot as plt\n",
    "\n",
    "# Modelos de machine learning\n",
    "from sklearn.tree import DecisionTreeClassifier\n",
    "from sklearn.linear_model import LogisticRegression\n",
    "from sklearn.ensemble import RandomForestClassifier\n",
    "from sklearn.neighbors import KNeighborsClassifier\n",
    "from xgboost import XGBClassifier\n",
    "\n",
    "# Pré-processamento e balanceamento\n",
    "from sklearn.model_selection import train_test_split\n",
    "from imblearn.over_sampling import SMOTE\n",
    "\n",
    "# Avaliação de modelos\n",
    "from sklearn.metrics import accuracy_score, precision_score, recall_score, f1_score, roc_auc_score, confusion_matrix\n",
    "\n",
    "# Utilitários\n",
    "import joblib"
   ]
  },
  {
   "cell_type": "markdown",
   "metadata": {},
   "source": [
    "# Metricas utilizadas\n",
    "- Para avaliar os modelos de classificação, vamos utilizar a matriz de confusão\n",
    "- Sendo:\n",
    "    - 0: Não saiu da empresa\n",
    "    - 1: Saiu da empresa"
   ]
  },
  {
   "cell_type": "markdown",
   "metadata": {},
   "source": [
    "|               | **Predito: 0** | **Predito: 1** |\n",
    "|---------------|----------------|----------------|\n",
    "| **Real: 0**   | TN (Verdadeiro Negativo) | FP (Falso Positivo)  |\n",
    "| **Real: 1**   | FN (Falso Negativo)      | TP (Verdadeiro Positivo) |"
   ]
  },
  {
   "cell_type": "markdown",
   "metadata": {},
   "source": [
    "- Acurácia = (TP + TN) / (TP + TN + FP + FN)\n",
    "- Precisão = TP / (TP + FP)\n",
    "- Recall = TP / (TP + FN)\n",
    "- F1-Score = 2 × (Precisão × Recall) / (Precisão + Recall)"
   ]
  },
  {
   "cell_type": "markdown",
   "metadata": {},
   "source": [
    "Em attrition, FN são mais caros que FP, porque um FP só gera uma falsa preocupação, mas um FN pode significar perder um talento valioso sem aviso.\n",
    "- Foco: Maximizar TP e Reduzir FN\n",
    "- Identificar o maior número possível de funcionários que realmente vão sair (TP).\n",
    "- Não  deixar passar funcionários que estão prestes a sair (FN).\n",
    "- Para isso focaremos nas seguintes métricas:\n",
    "    - **Recall**: (Sensibilidade / True Positive Rate) → Métrica principal\n",
    "    - **F1-Score**: Equilíbrio entre precisão e recall\n",
    "    - **Precision**:(Precisão) → Secundária"
   ]
  },
  {
   "cell_type": "markdown",
   "metadata": {},
   "source": [
    "# Modelo baseline\n",
    "- Modelo para servir de baseline, usa todas as features"
   ]
  },
  {
   "cell_type": "code",
   "execution_count": 2,
   "metadata": {},
   "outputs": [],
   "source": [
    "# dados_model_baseline = pd.read_csv('data/dados_para_modelo_baseline.csv')\n",
    "dados_model_baseline = pd.read_parquet('./data/dados_para_modelo_baseline.parquet')"
   ]
  },
  {
   "cell_type": "code",
   "execution_count": 3,
   "metadata": {},
   "outputs": [],
   "source": [
    "X_b = dados_model_baseline.drop(columns=[\"Attrition\"])\n",
    "y_b = dados_model_baseline['Attrition']\n",
    "\n",
    "X_train_b, X_test_b, y_train_b, y_test_b = train_test_split(X_b, y_b, test_size=0.2, random_state=42, stratify=y_b)\n",
    "\n",
    "model = LogisticRegression(max_iter=1000, random_state=42)\n",
    "model.fit(X_train_b, y_train_b)\n",
    "y_pred_b = model.predict(X_test_b)"
   ]
  },
  {
   "cell_type": "code",
   "execution_count": 4,
   "metadata": {},
   "outputs": [],
   "source": [
    "y_proba_b = model.predict_proba(X_test_b)[:, 1]\n",
    "threshold = 0.3\n",
    "y_pred_custom = (y_proba_b >= threshold).astype(int)"
   ]
  },
  {
   "cell_type": "code",
   "execution_count": 6,
   "metadata": {},
   "outputs": [
    {
     "name": "stdout",
     "output_type": "stream",
     "text": [
      "Modelo Baseline\n",
      "Acurácia: 0.82\n",
      "Precisão: 0.23\n",
      "Recall: 0.01\n",
      "F1-Score: 0.01\n"
     ]
    }
   ],
   "source": [
    "print('Modelo Baseline')\n",
    "print(f'Acurácia: {round(accuracy_score(y_test_b, y_pred_custom),2)}')\n",
    "print(f'Precisão: {round(precision_score(y_test_b, y_pred_custom, zero_division=0),2)}')\n",
    "print(f'Recall: {round(recall_score(y_test_b, y_pred_custom, zero_division=0),2)}')\n",
    "print(f'F1-Score: {round(f1_score(y_test_b, y_pred_custom, zero_division=0),2)}')"
   ]
  },
  {
   "cell_type": "code",
   "execution_count": 7,
   "metadata": {},
   "outputs": [
    {
     "data": {
      "text/plain": [
       "array([[153300,    598],\n",
       "       [ 32835,    176]], dtype=int64)"
      ]
     },
     "execution_count": 7,
     "metadata": {},
     "output_type": "execute_result"
    }
   ],
   "source": [
    "cm = confusion_matrix(y_test_b, y_pred_custom)\n",
    "cm"
   ]
  },
  {
   "cell_type": "markdown",
   "metadata": {},
   "source": [
    "# Modelo com features tratadas"
   ]
  },
  {
   "cell_type": "markdown",
   "metadata": {},
   "source": [
    "### Carregando dados"
   ]
  },
  {
   "cell_type": "code",
   "execution_count": 8,
   "metadata": {},
   "outputs": [],
   "source": [
    "X_test = pd.read_parquet('./data/processed/X_test.parquet')\n",
    "y_test = pd.read_parquet('./data/processed/y_test.parquet').values.ravel()"
   ]
  },
  {
   "cell_type": "markdown",
   "metadata": {},
   "source": [
    "### Carregando modelos"
   ]
  },
  {
   "cell_type": "code",
   "execution_count": 9,
   "metadata": {},
   "outputs": [],
   "source": [
    "#sem rebalanceamento\n",
    "dt_model = joblib.load('modelos/decision_tree.pkl')\n",
    "rf_model = joblib.load('modelos/forest.pkl')\n",
    "lr_model = joblib.load('modelos/logistic_regression.pkl')\n",
    "svm_model = joblib.load('modelos/svm.pkl')\n",
    "xgb_model = joblib.load('modelos/xgboost.pkl')\n",
    "\n",
    "#com rebalanceamento\n",
    "rf_model_r = joblib.load('modelos/forest_r.pkl')\n",
    "lr_model_r = joblib.load('modelos/logistic_regression_r.pkl')\n",
    "svm_model_r = joblib.load('modelos/svm_r.pkl')\n",
    "xgb_model_r = joblib.load('modelos/xgboost_r.pkl')"
   ]
  },
  {
   "cell_type": "code",
   "execution_count": 10,
   "metadata": {},
   "outputs": [],
   "source": [
    "modelos_results = {\"decision_tree\": dt_model,\n",
    "                   \"forest\": rf_model,\n",
    "                   \"logistic_regression\": lr_model,\n",
    "                   \"svm\": svm_model,\n",
    "                   \"xgboost\": xgb_model,\n",
    "                   \"forest_r\": rf_model_r,\n",
    "                   \"logistic_regression_r\": lr_model_r,\n",
    "                   \"svm_r\": svm_model_r,\n",
    "                   \"xgboost_r\": xgb_model_r,\n",
    "                  }"
   ]
  },
  {
   "cell_type": "markdown",
   "metadata": {},
   "source": [
    "### Função para avaliar modelo"
   ]
  },
  {
   "cell_type": "code",
   "execution_count": 11,
   "metadata": {},
   "outputs": [],
   "source": [
    "def avaliar_modelos_classificacao(modelos, X_test, y_test):\n",
    "    \"\"\" \n",
    "        Recebe um dicionario com nome do modelo e o modelo treinado, X_test e Y_test.\n",
    "        Plota as matrizes de confusão.\n",
    "        Gera um dataset com as métricas.\n",
    "    \"\"\"\n",
    "    \n",
    "    resultados = []\n",
    "\n",
    "    for nome, modelo in modelos.items():\n",
    "        y_pred = modelo.predict(X_test)\n",
    "\n",
    "        # Print da matriz de confusão\n",
    "        cm = confusion_matrix(y_test, y_pred)\n",
    "        print(f\"\\n{nome} - Matriz de Confusão:\")\n",
    "        print(cm)\n",
    "\n",
    "        resultados.append({\n",
    "            'Modelo': nome,\n",
    "            'Acurácia': accuracy_score(y_test, y_pred),\n",
    "            'Precisão': precision_score(y_test, y_pred, zero_division=0),\n",
    "            'Recall': recall_score(y_test, y_pred, zero_division=0),\n",
    "            'F1-Score': f1_score(y_test, y_pred, zero_division=0),\n",
    "        })\n",
    "\n",
    "    return pd.DataFrame(resultados).sort_values(by='F1-Score', ascending=False).reset_index(drop=True)"
   ]
  },
  {
   "cell_type": "code",
   "execution_count": 12,
   "metadata": {},
   "outputs": [
    {
     "name": "stdout",
     "output_type": "stream",
     "text": [
      "\n",
      "| TN | FP |\n",
      "| FN | TP |\n",
      "\n"
     ]
    }
   ],
   "source": [
    "print(\"\"\"\n",
    "| TN | FP |\n",
    "| FN | TP |\n",
    "\"\"\")"
   ]
  },
  {
   "cell_type": "markdown",
   "metadata": {},
   "source": [
    "## Roda os testes"
   ]
  },
  {
   "cell_type": "code",
   "execution_count": 19,
   "metadata": {
    "scrolled": false
   },
   "outputs": [
    {
     "name": "stdout",
     "output_type": "stream",
     "text": [
      "\n",
      "decision_tree - Matriz de Confusão:\n",
      "[[145418   8480]\n",
      " [ 30040   2971]]\n",
      "\n",
      "forest - Matriz de Confusão:\n",
      "[[153895      3]\n",
      " [ 33010      1]]\n",
      "\n",
      "logistic_regression - Matriz de Confusão:\n",
      "[[89054 64844]\n",
      " [12217 20794]]\n",
      "\n",
      "svm - Matriz de Confusão:\n",
      "[[153898      0]\n",
      " [ 33011      0]]\n",
      "\n",
      "xgboost - Matriz de Confusão:\n",
      "[[153613    285]\n",
      " [ 32773    238]]\n",
      "\n",
      "forest_r - Matriz de Confusão:\n",
      "[[125616  28282]\n",
      " [ 21763  11248]]\n",
      "\n",
      "logistic_regression_r - Matriz de Confusão:\n",
      "[[89657 64241]\n",
      " [12352 20659]]\n",
      "\n",
      "svm_r - Matriz de Confusão:\n",
      "[[89337 64561]\n",
      " [12253 20758]]\n",
      "\n",
      "xgboost_r - Matriz de Confusão:\n",
      "[[153649    249]\n",
      " [ 32796    215]]\n"
     ]
    },
    {
     "data": {
      "text/html": [
       "<div>\n",
       "<style scoped>\n",
       "    .dataframe tbody tr th:only-of-type {\n",
       "        vertical-align: middle;\n",
       "    }\n",
       "\n",
       "    .dataframe tbody tr th {\n",
       "        vertical-align: top;\n",
       "    }\n",
       "\n",
       "    .dataframe thead th {\n",
       "        text-align: right;\n",
       "    }\n",
       "</style>\n",
       "<table border=\"1\" class=\"dataframe\">\n",
       "  <thead>\n",
       "    <tr style=\"text-align: right;\">\n",
       "      <th></th>\n",
       "      <th>Modelo</th>\n",
       "      <th>Acurácia</th>\n",
       "      <th>Precisão</th>\n",
       "      <th>Recall</th>\n",
       "      <th>F1-Score</th>\n",
       "    </tr>\n",
       "  </thead>\n",
       "  <tbody>\n",
       "    <tr>\n",
       "      <th>0</th>\n",
       "      <td>svm_r</td>\n",
       "      <td>0.589030</td>\n",
       "      <td>0.243299</td>\n",
       "      <td>0.628821</td>\n",
       "      <td>0.350849</td>\n",
       "    </tr>\n",
       "    <tr>\n",
       "      <th>1</th>\n",
       "      <td>logistic_regression</td>\n",
       "      <td>0.587708</td>\n",
       "      <td>0.242813</td>\n",
       "      <td>0.629911</td>\n",
       "      <td>0.350513</td>\n",
       "    </tr>\n",
       "    <tr>\n",
       "      <th>2</th>\n",
       "      <td>logistic_regression_r</td>\n",
       "      <td>0.590212</td>\n",
       "      <td>0.243333</td>\n",
       "      <td>0.625822</td>\n",
       "      <td>0.350417</td>\n",
       "    </tr>\n",
       "    <tr>\n",
       "      <th>3</th>\n",
       "      <td>forest_r</td>\n",
       "      <td>0.732249</td>\n",
       "      <td>0.284543</td>\n",
       "      <td>0.340735</td>\n",
       "      <td>0.310114</td>\n",
       "    </tr>\n",
       "    <tr>\n",
       "      <th>4</th>\n",
       "      <td>decision_tree</td>\n",
       "      <td>0.793910</td>\n",
       "      <td>0.259453</td>\n",
       "      <td>0.090000</td>\n",
       "      <td>0.133642</td>\n",
       "    </tr>\n",
       "    <tr>\n",
       "      <th>5</th>\n",
       "      <td>xgboost</td>\n",
       "      <td>0.823133</td>\n",
       "      <td>0.455067</td>\n",
       "      <td>0.007210</td>\n",
       "      <td>0.014195</td>\n",
       "    </tr>\n",
       "    <tr>\n",
       "      <th>6</th>\n",
       "      <td>xgboost_r</td>\n",
       "      <td>0.823203</td>\n",
       "      <td>0.463362</td>\n",
       "      <td>0.006513</td>\n",
       "      <td>0.012845</td>\n",
       "    </tr>\n",
       "    <tr>\n",
       "      <th>7</th>\n",
       "      <td>forest</td>\n",
       "      <td>0.823374</td>\n",
       "      <td>0.250000</td>\n",
       "      <td>0.000030</td>\n",
       "      <td>0.000061</td>\n",
       "    </tr>\n",
       "    <tr>\n",
       "      <th>8</th>\n",
       "      <td>svm</td>\n",
       "      <td>0.823385</td>\n",
       "      <td>0.000000</td>\n",
       "      <td>0.000000</td>\n",
       "      <td>0.000000</td>\n",
       "    </tr>\n",
       "  </tbody>\n",
       "</table>\n",
       "</div>"
      ],
      "text/plain": [
       "                  Modelo  Acurácia  Precisão    Recall  F1-Score\n",
       "0                  svm_r  0.589030  0.243299  0.628821  0.350849\n",
       "1    logistic_regression  0.587708  0.242813  0.629911  0.350513\n",
       "2  logistic_regression_r  0.590212  0.243333  0.625822  0.350417\n",
       "3               forest_r  0.732249  0.284543  0.340735  0.310114\n",
       "4          decision_tree  0.793910  0.259453  0.090000  0.133642\n",
       "5                xgboost  0.823133  0.455067  0.007210  0.014195\n",
       "6              xgboost_r  0.823203  0.463362  0.006513  0.012845\n",
       "7                 forest  0.823374  0.250000  0.000030  0.000061\n",
       "8                    svm  0.823385  0.000000  0.000000  0.000000"
      ]
     },
     "execution_count": 19,
     "metadata": {},
     "output_type": "execute_result"
    }
   ],
   "source": [
    "avaliar_modelos_classificacao(modelos_results, X_test, y_test)"
   ]
  },
  {
   "cell_type": "markdown",
   "metadata": {},
   "source": [
    "## Avaliação resultado\n",
    "- svm_r e logistic_regression apresentaram melhor recall e F1-score. Pode ser um modelo promissor para o problema;\n",
    "- Vale a pena ajustar os thresholds do modelo"
   ]
  },
  {
   "cell_type": "markdown",
   "metadata": {},
   "source": [
    "## Codigo para testar varios Thresholds"
   ]
  },
  {
   "cell_type": "code",
   "execution_count": 33,
   "metadata": {},
   "outputs": [
    {
     "data": {
      "image/png": "[encoded data removed]",
      "text/plain": [
       "<Figure size 720x432 with 1 Axes>"
      ]
     },
     "metadata": {
      "needs_background": "light"
     },
     "output_type": "display_data"
    }
   ],
   "source": [
    "model = modelos_results[\"logistic_regression\"]\n",
    "y_proba = model.predict_proba(X_test)[:, 1]\n",
    "\n",
    "# Intervalo de thresholds para testar\n",
    "thresholds = np.arange(0.0, 1.01, 0.01)\n",
    "\n",
    "recalls = []\n",
    "precisions = []\n",
    "f1_scores = []\n",
    "\n",
    "for t in thresholds:\n",
    "    y_pred_t = (y_proba >= t).astype(int)\n",
    "    r = recall_score(y_test, y_pred_t, zero_division=0)\n",
    "    p = precision_score(y_test, y_pred_t, zero_division=0)\n",
    "    f1 = f1_score(y_test, y_pred_t)\n",
    "    \n",
    "    recalls.append(r)\n",
    "    precisions.append(p)\n",
    "    f1_scores.append(f1)\n",
    "\n",
    "# Plotar métricas\n",
    "plt.figure(figsize=(10, 6))\n",
    "plt.plot(thresholds, recalls, label='Recall', color='blue')\n",
    "plt.plot(thresholds, precisions, label='Precision', color='orange')\n",
    "plt.plot(thresholds, f1_scores, label='F1-Score', color='green')\n",
    "plt.xlabel('Threshold')\n",
    "plt.ylabel('Métrica')\n",
    "plt.title('Precision, Recall e F1-Score vs Threshold')\n",
    "plt.legend()\n",
    "plt.grid(True)\n",
    "plt.tight_layout()\n",
    "plt.show()"
   ]
  },
  {
   "cell_type": "markdown",
   "metadata": {},
   "source": [
    "## Avaliação dos Thresholds"
   ]
  },
  {
   "cell_type": "markdown",
   "metadata": {},
   "source": [
    "### Thresholds = 0.11"
   ]
  },
  {
   "cell_type": "code",
   "execution_count": 34,
   "metadata": {},
   "outputs": [
    {
     "name": "stdout",
     "output_type": "stream",
     "text": [
      "Acurácia: 0.17665815985319058\n",
      "Precisão: 0.17661599704650155\n",
      "Recall: 0.9999394141346823\n",
      "F1-Score: 0.3002073594412209\n"
     ]
    },
    {
     "data": {
      "text/plain": [
       "array([[    10, 153888],\n",
       "       [     2,  33009]], dtype=int64)"
      ]
     },
     "execution_count": 34,
     "metadata": {},
     "output_type": "execute_result"
    }
   ],
   "source": [
    "y_proba = model.predict_proba(X_test)[:, 1]\n",
    "threshold = 0.11\n",
    "y_pred_cust = (y_proba >= threshold).astype(int)\n",
    "\n",
    "print(f'Acurácia: {accuracy_score(y_test, y_pred_cust,)}')\n",
    "print(f'Precisão: {precision_score(y_test, y_pred_cust, zero_division=0)}')\n",
    "print(f'Recall: {recall_score(y_test, y_pred_cust, zero_division=0)}')\n",
    "print(f'F1-Score: {f1_score(y_test, y_pred_cust, zero_division=0)}')\n",
    "confusion_matrix(y_test, y_pred_cust)"
   ]
  },
  {
   "cell_type": "markdown",
   "metadata": {},
   "source": [
    "### Thresholds = 0.42"
   ]
  },
  {
   "cell_type": "code",
   "execution_count": 35,
   "metadata": {},
   "outputs": [
    {
     "name": "stdout",
     "output_type": "stream",
     "text": [
      "Acurácia: 0.4380955438207898\n",
      "Precisão: 0.2159524786216907\n",
      "Recall: 0.8292690315349429\n",
      "F1-Score: 0.34266937881395715\n",
      "[[54509 99389]\n",
      " [ 5636 27375]]\n",
      "[[29.16338967 53.1750745 ]\n",
      " [ 3.01537112 14.64616471]]\n"
     ]
    }
   ],
   "source": [
    "y_proba = model.predict_proba(X_test)[:, 1]\n",
    "threshold = 0.42\n",
    "y_pred_cust = (y_proba >= threshold).astype(int)\n",
    "\n",
    "print(f'Acurácia: {accuracy_score(y_test, y_pred_cust,)}')\n",
    "print(f'Precisão: {precision_score(y_test, y_pred_cust, zero_division=0)}')\n",
    "print(f'Recall: {recall_score(y_test, y_pred_cust, zero_division=0)}')\n",
    "print(f'F1-Score: {f1_score(y_test, y_pred_cust, zero_division=0)}')\n",
    "cm = confusion_matrix(y_test, y_pred_cust)\n",
    "print(cm)\n",
    "print((cm/cm.sum())*100)"
   ]
  },
  {
   "cell_type": "markdown",
   "metadata": {},
   "source": [
    "# Conclusão\n",
    "- O modelo escolhido foi a Regressão Logística com threshold de 0.42.\n",
    "- Ao alterar o thresholds molhora o recall, reduzindo os casos de FN, porem piora precisão e F1-score.\n",
    "- O Threshold de 0.42 prioriza o Recall em relação as outras métricas."
   ]
  },
  {
   "cell_type": "markdown",
   "metadata": {},
   "source": [
    "# Avalição do modelo\n",
    "- Entendemos que para a seleção do modelo, decisões da empresa devem ser levadas em conta. Por exemplo, a baixa precisão pode gera alertas desnecessários, se o custo disso for baixo, não é um problema."
   ]
  },
  {
   "cell_type": "markdown",
   "metadata": {},
   "source": [
    "|Critério|Avaliação|\n",
    "|---------------|----------------|\n",
    "|Encontra quem vai sair?|✅ Sim (Recall alto: 82%)|\n",
    "|Erra muitos falsos alertas?|⚠️ Sim (Precisão baixa: 21%)|\n",
    "|É confiável para acionar ações?|⚠️ Pode gerar muitos alertas falsos|\n",
    "|Está alinhado com o objetivo do negócio?|✅ Sim, se o foco é não deixar talentos saírem sem aviso|"
   ]
  }
 ],
 "metadata": {
  "kernelspec": {
   "display_name": "Python 3",
   "language": "python",
   "name": "python3"
  },
  "language_info": {
   "codemirror_mode": {
    "name": "ipython",
    "version": 3
   },
   "file_extension": ".py",
   "mimetype": "text/x-python",
   "name": "python",
   "nbconvert_exporter": "python",
   "pygments_lexer": "ipython3",
   "version": "3.8.3"
  }
 },
 "nbformat": 4,
 "nbformat_minor": 4
}
