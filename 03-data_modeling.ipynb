{
 "cells": [
  {
   "cell_type": "markdown",
   "metadata": {},
   "source": [
    "# Libs utilizadas"
   ]
  },
  {
   "cell_type": "code",
   "execution_count": 44,
   "metadata": {},
   "outputs": [],
   "source": [
    "# Bibliotecas padrão do Python\n",
    "import os\n",
    "import joblib\n",
    "\n",
    "# Bibliotecas para manipulação de dados\n",
    "import pandas as pd\n",
    "\n",
    "# Machine Learning - modelos\n",
    "from sklearn.tree import DecisionTreeClassifier\n",
    "from sklearn.ensemble import RandomForestClassifier\n",
    "from sklearn.linear_model import LogisticRegression\n",
    "from sklearn.svm import SVC\n",
    "from xgboost import XGBClassifier\n",
    "\n",
    "# Técnicas para lidar com desbalanceamento\n",
    "from imblearn.over_sampling import SMOTE"
   ]
  },
  {
   "cell_type": "markdown",
   "metadata": {},
   "source": [
    "# Carregando os dados\n",
    "- Os dados foram criados no notebook `02-trata_dados.ipynb`"
   ]
  },
  {
   "cell_type": "code",
   "execution_count": 30,
   "metadata": {
    "scrolled": true
   },
   "outputs": [
    {
     "name": "stdout",
     "output_type": "stream",
     "text": [
      "Carregando dados processados:\n",
      "Dimensões X_train: (747632, 22)\n",
      "Dimensões X_test: (186909, 22)\n",
      "Proporção de Attrition no treino: 17.66%\n",
      "Proporção de Attrition no teste: 17.66%\n"
     ]
    }
   ],
   "source": [
    "print(\"Carregando dados processados:\")\n",
    "X_train = pd.read_parquet('./data/processed/X_train.parquet')\n",
    "X_test = pd.read_parquet('./data/processed/X_test.parquet')\n",
    "y_train = pd.read_parquet('./data/processed/y_train.parquet').values.ravel()\n",
    "y_test = pd.read_parquet('./data/processed/y_test.parquet').values.ravel()\n",
    "\n",
    "print(f\"Dimensões X_train: {X_train.shape}\")\n",
    "print(f\"Dimensões X_test: {X_test.shape}\")\n",
    "print(f\"Proporção de Attrition no treino: {y_train.mean():.2%}\")\n",
    "print(f\"Proporção de Attrition no teste: {y_test.mean():.2%}\")"
   ]
  },
  {
   "cell_type": "markdown",
   "metadata": {},
   "source": [
    "# Modelagem"
   ]
  },
  {
   "cell_type": "code",
   "execution_count": 31,
   "metadata": {},
   "outputs": [],
   "source": [
    "# Cria diretório para salvar modelos\n",
    "os.makedirs(\"modelos\", exist_ok=True)"
   ]
  },
  {
   "cell_type": "markdown",
   "metadata": {},
   "source": [
    "## Decision tree\n",
    "- Modelo simples e interpretável que divide os dados com base em regras se-então."
   ]
  },
  {
   "cell_type": "code",
   "execution_count": 32,
   "metadata": {},
   "outputs": [
    {
     "data": {
      "text/plain": [
       "['modelos/decision_tree.pkl']"
      ]
     },
     "execution_count": 32,
     "metadata": {},
     "output_type": "execute_result"
    }
   ],
   "source": [
    "dt_model  = DecisionTreeClassifier(max_depth=20, random_state=42)\n",
    "dt_model.fit(X_train, y_train)\n",
    "joblib.dump(dt_model, 'modelos/decision_tree.pkl')"
   ]
  },
  {
   "cell_type": "markdown",
   "metadata": {},
   "source": [
    "## Random forest\n",
    "- Conjunto de várias árvores que reduz overfitting e melhora a generalização."
   ]
  },
  {
   "cell_type": "code",
   "execution_count": 33,
   "metadata": {},
   "outputs": [
    {
     "data": {
      "text/plain": [
       "['modelos/forest.pkl']"
      ]
     },
     "execution_count": 33,
     "metadata": {},
     "output_type": "execute_result"
    }
   ],
   "source": [
    "rf_model  = RandomForestClassifier(\n",
    "                                    n_estimators=50,\n",
    "                                    max_depth=10,\n",
    "                                    n_jobs=-1,\n",
    "                                    random_state=42)\n",
    "rf_model.fit(X_train, y_train)\n",
    "joblib.dump(rf_model, 'modelos/forest.pkl')"
   ]
  },
  {
   "cell_type": "markdown",
   "metadata": {},
   "source": [
    "## Regressão Logística\n",
    "- Modelo linear que estima a probabilidade de classes com base em uma combinação linear das features."
   ]
  },
  {
   "cell_type": "code",
   "execution_count": 34,
   "metadata": {},
   "outputs": [
    {
     "data": {
      "text/plain": [
       "['modelos/logistic_regression.pkl']"
      ]
     },
     "execution_count": 34,
     "metadata": {},
     "output_type": "execute_result"
    }
   ],
   "source": [
    "lr_model  = LogisticRegression(max_iter=1000, class_weight='balanced')\n",
    "lr_model.fit(X_train, y_train)\n",
    "joblib.dump(lr_model, 'modelos/logistic_regression.pkl')"
   ]
  },
  {
   "cell_type": "markdown",
   "metadata": {},
   "source": [
    "## SVM\n",
    "- Encontra um hiperplano que separa as classes com a maior margem possível"
   ]
  },
  {
   "cell_type": "code",
   "execution_count": 45,
   "metadata": {},
   "outputs": [
    {
     "name": "stderr",
     "output_type": "stream",
     "text": [
      "C:\\ProgramData\\Anaconda3\\lib\\site-packages\\sklearn\\svm\\_base.py:246: ConvergenceWarning: Solver terminated early (max_iter=5000).  Consider pre-processing your data with StandardScaler or MinMaxScaler.\n",
      "  warnings.warn('Solver terminated early (max_iter=%i).'\n"
     ]
    },
    {
     "data": {
      "text/plain": [
       "['modelos/svm.pkl']"
      ]
     },
     "execution_count": 45,
     "metadata": {},
     "output_type": "execute_result"
    }
   ],
   "source": [
    "svm_model = SVC(kernel='linear', probability=True, max_iter=5000, tol=1e-3, random_state=42)\n",
    "svm_model.fit(X_train, y_train)\n",
    "joblib.dump(svm_model, 'modelos/svm.pkl')"
   ]
  },
  {
   "cell_type": "markdown",
   "metadata": {},
   "source": [
    "## XGBoost\n",
    "- Vombina várias árvores fracas (geralmente árvores de decisão rasas) para formar um modelo forte."
   ]
  },
  {
   "cell_type": "code",
   "execution_count": 36,
   "metadata": {},
   "outputs": [
    {
     "data": {
      "text/plain": [
       "['modelos/xgboost.pkl']"
      ]
     },
     "execution_count": 36,
     "metadata": {},
     "output_type": "execute_result"
    }
   ],
   "source": [
    "xgb_model  = XGBClassifier( eval_metric='logloss', random_state=42)\n",
    "xgb_model.fit(X_train, y_train)\n",
    "joblib.dump(xgb_model, 'modelos/xgboost.pkl')"
   ]
  },
  {
   "cell_type": "markdown",
   "metadata": {},
   "source": [
    "## Rebalanceamento dos dados"
   ]
  },
  {
   "cell_type": "code",
   "execution_count": 37,
   "metadata": {},
   "outputs": [],
   "source": [
    "# rebalanceamento\n",
    "smote = SMOTE(random_state=42, n_jobs=-1)\n",
    "X_train_resampled, y_train_resampled = smote.fit_resample(X_train, y_train)"
   ]
  },
  {
   "cell_type": "code",
   "execution_count": 38,
   "metadata": {},
   "outputs": [],
   "source": [
    "# salvando os dados\n",
    "pd.DataFrame(X_train_resampled, columns=X_train_resampled.columns).to_parquet('./data/processed/X_train_resampled.parquet')\n",
    "pd.Series(y_train_resampled, name='target').to_frame().to_parquet('./data/processed/y_train_resampled.parquet')"
   ]
  },
  {
   "cell_type": "markdown",
   "metadata": {},
   "source": [
    "# Retreino dos modelos\n",
    "- Utilizando dados rebalanceados"
   ]
  },
  {
   "cell_type": "markdown",
   "metadata": {},
   "source": [
    "## Random Forest"
   ]
  },
  {
   "cell_type": "code",
   "execution_count": 39,
   "metadata": {},
   "outputs": [
    {
     "data": {
      "text/plain": [
       "['modelos/forest_r.pkl']"
      ]
     },
     "execution_count": 39,
     "metadata": {},
     "output_type": "execute_result"
    }
   ],
   "source": [
    "rf_model_r  = RandomForestClassifier(\n",
    "                                    n_estimators=50,\n",
    "                                    max_depth=10,\n",
    "                                    n_jobs=-1,\n",
    "                                    random_state=42)\n",
    "rf_model_r.fit(X_train_resampled, y_train_resampled)\n",
    "\n",
    "joblib.dump(rf_model_r, 'modelos/forest_r.pkl')"
   ]
  },
  {
   "cell_type": "markdown",
   "metadata": {},
   "source": [
    "## Regressão Logística"
   ]
  },
  {
   "cell_type": "code",
   "execution_count": 40,
   "metadata": {},
   "outputs": [
    {
     "data": {
      "text/plain": [
       "['modelos/logistic_regression_r.pkl']"
      ]
     },
     "execution_count": 40,
     "metadata": {},
     "output_type": "execute_result"
    }
   ],
   "source": [
    "lr_model_r  = LogisticRegression(max_iter=1000, class_weight='balanced')\n",
    "lr_model_r.fit(X_train_resampled, y_train_resampled)\n",
    "\n",
    "joblib.dump(lr_model_r, 'modelos/logistic_regression_r.pkl')"
   ]
  },
  {
   "cell_type": "markdown",
   "metadata": {},
   "source": [
    "## SVM"
   ]
  },
  {
   "cell_type": "code",
   "execution_count": 46,
   "metadata": {},
   "outputs": [
    {
     "name": "stderr",
     "output_type": "stream",
     "text": [
      "C:\\ProgramData\\Anaconda3\\lib\\site-packages\\sklearn\\svm\\_base.py:246: ConvergenceWarning: Solver terminated early (max_iter=5000).  Consider pre-processing your data with StandardScaler or MinMaxScaler.\n",
      "  warnings.warn('Solver terminated early (max_iter=%i).'\n"
     ]
    },
    {
     "data": {
      "text/plain": [
       "['modelos/svm_r.pkl']"
      ]
     },
     "execution_count": 46,
     "metadata": {},
     "output_type": "execute_result"
    }
   ],
   "source": [
    "svm_model_r = SVC(kernel='linear', probability=True, max_iter=5000, tol=1e-3, random_state=42)\n",
    "svm_model_r.fit(X_train_resampled, y_train_resampled)\n",
    "\n",
    "joblib.dump(svm_model_r, 'modelos/svm_r.pkl')"
   ]
  },
  {
   "cell_type": "markdown",
   "metadata": {},
   "source": [
    "## XGBoost"
   ]
  },
  {
   "cell_type": "code",
   "execution_count": 42,
   "metadata": {},
   "outputs": [
    {
     "data": {
      "text/plain": [
       "['modelos/xgboost_r.pkl']"
      ]
     },
     "execution_count": 42,
     "metadata": {},
     "output_type": "execute_result"
    }
   ],
   "source": [
    "xgb_model_r  = XGBClassifier( eval_metric='logloss', random_state=42)\n",
    "xgb_model_r.fit(X_train_resampled, y_train_resampled)\n",
    "\n",
    "joblib.dump(xgb_model_r, 'modelos/xgboost_r.pkl')"
   ]
  }
 ],
 "metadata": {
  "kernelspec": {
   "display_name": "Python 3",
   "language": "python",
   "name": "python3"
  },
  "language_info": {
   "codemirror_mode": {
    "name": "ipython",
    "version": 3
   },
   "file_extension": ".py",
   "mimetype": "text/x-python",
   "name": "python",
   "nbconvert_exporter": "python",
   "pygments_lexer": "ipython3",
   "version": "3.8.3"
  }
 },
 "nbformat": 4,
 "nbformat_minor": 4
}
